{
 "cells": [
  {
   "cell_type": "markdown",
   "id": "30734ce9",
   "metadata": {},
   "source": [
    "# CHSH inequality\n"
   ]
  },
  {
   "cell_type": "markdown",
   "id": "6b41d6b3",
   "metadata": {},
   "source": [
    "*Estimated QPU usage: 4 minutes (tested on IBM Kyiv)*\n",
    "\n",
    "## Background\n",
    "\n",
    "In this tutorial, you will run an experiment on a quantum computer to demonstrate the violation of the CHSH inequality with the Estimator primitive.\n",
    "\n",
    "The CHSH inequality, named after the authors Clauser, Horne, Shimony, and Holt, is used to experimentally prove Bell's theorem (1969). This theorem asserts that local hidden variable theories cannot account for some consequences of entanglement in quantum mechanics. The violation of the CHSH inequality is used to show that quantum mechanics is incompatible with local hidden-variable theories. This is an important experiment for understanding the foundation of quantum mechanics.\n",
    "\n",
    "The 2022 Nobel Prize for Physics was awarded to Alain Aspect, John Clauser and Anton Zeilinger in part for their pioneering work in quantum information science, and in particular, for their experiments with entangled photons demonstrating violation of Bell’s inequalities.\n"
   ]
  },
  {
   "cell_type": "markdown",
   "id": "6f5d9398-5aaa-4596-a554-61c923f0c2d2",
   "metadata": {},
   "source": [
    "## Requirements\n",
    "\n",
    "Before starting this tutorial, ensure that you have the following installed:\n",
    "\n",
    "* Qiskit SDK 1.0 or later\n",
    "* Qiskit Runtime (`pip install qiskit-ibm-runtime`) 0.22 or later\n",
    "* Visualization support (`'qiskit[visualization]'`)\n"
   ]
  },
  {
   "cell_type": "markdown",
   "id": "66d5e2e2",
   "metadata": {},
   "source": [
    "## Step 1. Map classical inputs to a quantum problem\n"
   ]
  },
  {
   "cell_type": "markdown",
   "id": "36669708",
   "metadata": {},
   "source": [
    "For this experiment, we will create an entangled pair on which we measure each qubit on two different bases. We will label the bases for the first qubit $A_1$ and $A_2$ and the bases for the second qubit $B_1$ and $B_2$.  This allows us to compute the CHSH quantity $S_1$:\n",
    "\n",
    "$$\n",
    "S_1 = A_1(B_1-B_2) + A_2(B_1+B_2).\n",
    "$$\n",
    "\n",
    "Each observable is either $+1$ or $-1$. Clearly, one of the terms $B_1\\pm B_2$ must be $0$, and the other must be $\\pm 2$.  Therefore, $S_1 = \\pm 2$. The average value of $S_1$ must satisfy the inequality:\n",
    "\n",
    "$$\n",
    "|\\langle S_1 \\rangle|\\leq 2.\n",
    "$$\n",
    "\n",
    "Expanding $S_1$ in terms of $A_1$, $A_2$, $B_1$, and $B_2$ results in:\n",
    "\n",
    "$$\n",
    "|\\langle S_1 \\rangle| = |\\langle A_1B_1 \\rangle - \\langle A_1 B_2 \\rangle + \\langle A_2 B_1 \\rangle + \\langle A_2 B_2 \\rangle| \\leq 2\n",
    "$$\n",
    "\n",
    "You can define another CHSH quantity $S_2$:\n",
    "\n",
    "$$\n",
    "S_2 = A_1(B_1+B_2) - A_2(B_1-B_2),\n",
    "$$\n",
    "\n",
    "This leads to another inequality:\n",
    "\n",
    "$$\n",
    "|\\langle S_2 \\rangle| = |\\langle A_1B_1 \\rangle + \\langle A_1B_2 \\rangle - \\langle A_1B_2 \\rangle + \\langle A_1 B_2 \\rangle| \\leq 2\n",
    "$$\n",
    "\n",
    "If quantum mechanics can be described by local hidden variable theories, the previous inequalities must hold true. However, as is demonstrated in this notebook, these inequalities can be violated in a quantum computer.  Therefore, quantum mechanics is not compatible with local hidden variable theories.\n"
   ]
  },
  {
   "cell_type": "markdown",
   "id": "2033cfcd",
   "metadata": {},
   "source": [
    "If you want to learn more theory, explore [Entanglement in Action](https://learning.quantum-computing.ibm.com/course/basics-of-quantum-information/entanglement-in-action#the-chsh-game) with John Watrous.\n",
    "\n",
    "<iframe loading=\"lazy\" width=\"800\" height=\"450\" style=\"margin-top: 40px; margin-bottom: 40px;\" src=\"https://www.youtube.com/embed/GSsElSQgMbU?si=ZhRKJKHMLRq0g3E1&amp;start=2426\" title=\"YouTube video player\" frameborder=\"0\" allow=\"accelerometer; autoplay; clipboard-write; encrypted-media; gyroscope; picture-in-picture; web-share\" allowfullscreen></iframe>\n"
   ]
  },
  {
   "cell_type": "markdown",
   "id": "d4cec8d8",
   "metadata": {},
   "source": [
    "You will create an entangled pair between two qubits in a quantum computer by creating the Bell state $|\\Phi^+\\rangle = \\frac{|00\\rangle + |11\\rangle}{\\sqrt{2}}$. Using the Estimator primitive, you can directly obtain the expectation values needed ($\\langle A_1B_1 \\rangle, \\langle A_1B_2 \\rangle, \\langle A_2 B_1 \\rangle$, and $\\langle A_2 B_2 \\rangle$) to calculate the expectation values of the two CHSH quantities $\\langle S_1\\rangle$ and $\\langle S_2\\rangle$. Before the introduction of the Estimator primitive, you would have to construct the expectation values from the measurement outcomes.\n",
    "\n",
    "You will measure the second qubit in the $Z$ and $X$ bases.  The first qubit will be measured also in orthogonal bases, but with an angle with respect to the second qubit, which we are going to sweep between $0$ and $2\\pi$. As you will see, the Estimator primitive makes running parameterized circuits very easy. Rather than creating a series of CHSH circuits, you only need to create *one* CHSH circuit with a parameter specifying the measurement angle and a series of phase values for the parameter.\n",
    "\n",
    "Finally, you will analyze the results and plot them against the measurement angle. You will see that for certain range of measurement angles, the expectation values of CHSH quantities $|\\langle S_1\\rangle| > 2$ or $|\\langle S_2\\rangle| > 2$, which demonstrates the violation of the CHSH inequality.\n"
   ]
  },
  {
   "cell_type": "markdown",
   "id": "9c7dcf81",
   "metadata": {},
   "source": [
    "### Setup\n"
   ]
  },
  {
   "cell_type": "code",
   "execution_count": 1,
   "id": "53cb74e3",
   "metadata": {},
   "outputs": [],
   "source": [
    "# General\n",
    "import numpy as np\n",
    "\n",
    "# Qiskit imports\n",
    "from qiskit import QuantumCircuit\n",
    "from qiskit.circuit import Parameter\n",
    "from qiskit.quantum_info import SparsePauliOp\n",
    "\n",
    "# Qiskit Runtime imports\n",
    "from qiskit_ibm_runtime import QiskitRuntimeService\n",
    "from qiskit_ibm_runtime import EstimatorV2 as Estimator\n",
    "\n",
    "# Plotting routines\n",
    "import matplotlib.pyplot as plt\n",
    "import matplotlib.ticker as tck"
   ]
  },
  {
   "cell_type": "code",
   "execution_count": null,
   "id": "e5cfb432",
   "metadata": {},
   "outputs": [],
   "source": [
    "# IBM Quantum channel; set to default \n",
    " \n",
    "token = \"my_token\"\n",
    "\n",
    "QiskitRuntimeService.save_account(channel=\"ibm_quantum\", token=token, overwrite=True, set_as_default=True)"
   ]
  },
  {
   "cell_type": "code",
   "execution_count": 4,
   "id": "caf8864d",
   "metadata": {},
   "outputs": [],
   "source": [
    "service = QiskitRuntimeService()"
   ]
  },
  {
   "cell_type": "code",
   "execution_count": 5,
   "id": "cae9fbed",
   "metadata": {},
   "outputs": [
    {
     "data": {
      "text/plain": [
       "[<IBMBackend('ibm_brisbane')>,\n",
       " <IBMBackend('ibm_sherbrooke')>,\n",
       " <IBMBackend('ibm_yonsei')>]"
      ]
     },
     "execution_count": 5,
     "metadata": {},
     "output_type": "execute_result"
    }
   ],
   "source": [
    "service.backends()"
   ]
  },
  {
   "cell_type": "code",
   "execution_count": 6,
   "id": "86346053",
   "metadata": {},
   "outputs": [],
   "source": [
    "backend_ys = service.backend(\"ibm_yonsei\")\n",
    "backend_br = service.backend(\"ibm_brisbane\")"
   ]
  },
  {
   "cell_type": "code",
   "execution_count": 2,
   "id": "16f323fb",
   "metadata": {},
   "outputs": [
    {
     "data": {
      "text/plain": [
       "'ibm_sherbrooke'"
      ]
     },
     "execution_count": 2,
     "metadata": {},
     "output_type": "execute_result"
    }
   ],
   "source": [
    "# To run on hardware, select the backend with the fewest number of jobs in the queue\n",
    "service = QiskitRuntimeService(channel=\"ibm_quantum\")\n",
    "backend = service.least_busy(operational=True, simulator=False, min_num_qubits=127)\n",
    "backend.name"
   ]
  },
  {
   "cell_type": "markdown",
   "id": "1ab329f2",
   "metadata": {},
   "source": [
    "### Create a parameterized CHSH circuit\n",
    "\n",
    "First, we write the circuit with the parameter $\\theta$, which we call `theta`. The [`Estimator` primitive](https://docs.quantum-computing.ibm.com/api/qiskit-ibm-runtime/qiskit_ibm_runtime.EstimatorV2) can enormously simplify circuit building and output analysis by directly providing expectation values of observables. Many problems of interest, especially for near-term applications on noisy systems, can be formulated in terms of expectation values. `Estimator` (V2) primitive can automatically change measurement basis based on the supplied observable.\n"
   ]
  },
  {
   "cell_type": "code",
   "execution_count": 8,
   "id": "6c77e40a",
   "metadata": {},
   "outputs": [
    {
     "data": {
      "image/png": "[encoded data removed]",
      "text/plain": [
       "<Figure size 370.906x200.667 with 1 Axes>"
      ]
     },
     "execution_count": 8,
     "metadata": {},
     "output_type": "execute_result"
    }
   ],
   "source": [
    "theta = Parameter(\"$\\\\theta$\")\n",
    "\n",
    "chsh_circuit = QuantumCircuit(2)\n",
    "chsh_circuit.h(0)\n",
    "chsh_circuit.cx(0, 1)\n",
    "chsh_circuit.ry(theta, 0)\n",
    "chsh_circuit.draw(output=\"mpl\", idle_wires=False, style=\"iqp\")"
   ]
  },
  {
   "cell_type": "markdown",
   "id": "2fd8c556",
   "metadata": {},
   "source": [
    "$$\\frac{(\\cos(\\theta/2)|0\\rangle + \\sin(\\theta/2) |1\\rangle)|0> + (\\cos(\\theta/2)|0\\rangle - \\sin(\\theta/2) |1\\rangle)|1>}{\\sqrt 2}$$"
   ]
  },
  {
   "cell_type": "markdown",
   "id": "de760250",
   "metadata": {},
   "source": [
    "### Create a list of phase values to be assigned later\n",
    "\n",
    "After creating the parameterized CHSH circuit, you will create a list of phase values to be assigned to the circuit in the next step. You can use the following code to create a list of 21 phase values range from $0$ to $2 \\pi$ with equal spacing, that is, $0$, $0.1 \\pi$, $0.2 \\pi$, ..., $1.9 \\pi$, $2 \\pi$.\n"
   ]
  },
  {
   "cell_type": "code",
   "execution_count": 9,
   "id": "bcb3b32b",
   "metadata": {},
   "outputs": [],
   "source": [
    "number_of_phases = 21\n",
    "phases = np.linspace(0, 2 * np.pi, number_of_phases)\n",
    "# Phases need to be expressed as list of lists in order to work\n",
    "individual_phases = [[ph] for ph in phases]"
   ]
  },
  {
   "cell_type": "markdown",
   "id": "6e559aed",
   "metadata": {},
   "source": [
    "### Observables\n",
    "\n",
    "Now we need observables from which to compute the expectation values.  In our case we are looking at orthogonal bases for each qubit, letting the parameterized $Y-$ rotation for the first qubit sweep the measurement basis nearly continuously with respect to the second qubit basis. We will therefore choose the observables $ZZ$, $ZX$, $XZ$, and $XX$.\n"
   ]
  },
  {
   "cell_type": "code",
   "execution_count": 10,
   "id": "940fc1dc-89c5-4137-bea7-5e892dd7f36e",
   "metadata": {},
   "outputs": [],
   "source": [
    "# <CHSH1> = <A_1 B_1> - <A_1 B_2> + <A_2 B_1> + <A_2 B_2> -> <ZZ> - <ZX> + <XZ> + <XX>\n",
    "observable1 = SparsePauliOp.from_list([(\"ZZ\", 1), (\"ZX\", -1), (\"XZ\", 1), (\"XX\", 1)])\n",
    "\n",
    "# <CHSH2> = <A_1 B_1> - <A_1 B_2> + <A_2 B_1> + <A_2 B_2> -> <ZZ> + <ZX> - <XZ> + <XX>\n",
    "observable2 = SparsePauliOp.from_list([(\"ZZ\", 1), (\"ZX\", 1), (\"XZ\", -1), (\"XX\", 1)])"
   ]
  },
  {
   "cell_type": "code",
   "execution_count": 14,
   "id": "164d7e72",
   "metadata": {},
   "outputs": [
    {
     "data": {
      "text/plain": [
       "array([[ 1.+0.j,  0.+0.j,  0.+0.j,  0.+0.j],\n",
       "       [ 0.+0.j, -1.+0.j,  0.+0.j,  0.+0.j],\n",
       "       [ 0.+0.j,  0.+0.j, -1.+0.j,  0.+0.j],\n",
       "       [ 0.+0.j,  0.+0.j,  0.+0.j,  1.+0.j]])"
      ]
     },
     "execution_count": 14,
     "metadata": {},
     "output_type": "execute_result"
    }
   ],
   "source": [
    "observable1[0].to_matrix()"
   ]
  },
  {
   "cell_type": "code",
   "execution_count": 15,
   "id": "56b2cf98",
   "metadata": {},
   "outputs": [
    {
     "data": {
      "text/plain": [
       "array([[ 0.+0.j, -1.+0.j,  0.+0.j,  0.+0.j],\n",
       "       [-1.+0.j,  0.+0.j,  0.+0.j,  0.+0.j],\n",
       "       [ 0.+0.j,  0.+0.j,  0.+0.j,  1.+0.j],\n",
       "       [ 0.+0.j,  0.+0.j,  1.+0.j,  0.+0.j]])"
      ]
     },
     "execution_count": 15,
     "metadata": {},
     "output_type": "execute_result"
    }
   ],
   "source": [
    "observable1[1].to_matrix()"
   ]
  },
  {
   "cell_type": "markdown",
   "id": "efabedc4",
   "metadata": {},
   "source": [
    "## Step 2. Optimize problem for quantum execution\n"
   ]
  },
  {
   "cell_type": "markdown",
   "id": "4b2b4637-a2d4-41d6-a9c5-98fe3b8a2cd2",
   "metadata": {},
   "source": [
    "To reduce the total job execution time, V2 primitives only accept circuits and observables that conforms to the instructions and connectivity supported by the target system (referred to as instruction set architecture (ISA) circuits and observables).\n"
   ]
  },
  {
   "cell_type": "markdown",
   "id": "5dcd3fea-3754-4c75-b11e-9216570336b7",
   "metadata": {},
   "source": [
    "### ISA Circuit\n"
   ]
  },
  {
   "cell_type": "code",
   "execution_count": 17,
   "id": "9a5561eb",
   "metadata": {},
   "outputs": [
    {
     "data": {
      "image/png": "[encoded data removed]",
      "text/plain": [
       "<Figure size 1027.1x200.667 with 1 Axes>"
      ]
     },
     "execution_count": 17,
     "metadata": {},
     "output_type": "execute_result"
    }
   ],
   "source": [
    "from qiskit.transpiler.preset_passmanagers import generate_preset_pass_manager\n",
    "\n",
    "target = backend_ys.target\n",
    "pm = generate_preset_pass_manager(target=target, optimization_level=3)\n",
    "\n",
    "chsh_isa_circuit = pm.run(chsh_circuit)\n",
    "chsh_isa_circuit.draw(output=\"mpl\", idle_wires=False, style=\"iqp\")"
   ]
  },
  {
   "cell_type": "markdown",
   "id": "718759d4-f1d8-45c3-9142-c8404059a892",
   "metadata": {},
   "source": [
    "### ISA Observables\n"
   ]
  },
  {
   "cell_type": "markdown",
   "id": "76b721cc-7f45-4195-ae61-53d29e2bf8d4",
   "metadata": {},
   "source": [
    "Similarly, we need to transform the observables to make it backend compatible before running jobs with [`Runtime Estimator V2`](https://docs.quantum.ibm.com/api/qiskit-ibm-runtime/qiskit_ibm_runtime.EstimatorV2#run). We can perform the transformation using the `apply_layout` the method of `SparsePauliOp` object.\n"
   ]
  },
  {
   "cell_type": "code",
   "execution_count": 18,
   "id": "a787d6f9-5df4-4e0b-b2f0-07948b882a94",
   "metadata": {},
   "outputs": [],
   "source": [
    "isa_observable1 = observable1.apply_layout(layout=chsh_isa_circuit.layout)\n",
    "isa_observable2 = observable2.apply_layout(layout=chsh_isa_circuit.layout)"
   ]
  },
  {
   "cell_type": "code",
   "execution_count": 19,
   "id": "e916b8a0",
   "metadata": {},
   "outputs": [
    {
     "data": {
      "text/plain": [
       "SparsePauliOp(['IIIIIIIIIIIIIIIIIIIIIIIIIIIIIIIIIIIIIIIIIIIIIIIIIIIIIIIIIIIIIIIIIIIIIIIIIIIIIIIIIIIIZZIIIIIIIIIIIIIIIIIIIIIIIIIIIIIIIIIIIIIIIII', 'IIIIIIIIIIIIIIIIIIIIIIIIIIIIIIIIIIIIIIIIIIIIIIIIIIIIIIIIIIIIIIIIIIIIIIIIIIIIIIIIIIIIXZIIIIIIIIIIIIIIIIIIIIIIIIIIIIIIIIIIIIIIIII', 'IIIIIIIIIIIIIIIIIIIIIIIIIIIIIIIIIIIIIIIIIIIIIIIIIIIIIIIIIIIIIIIIIIIIIIIIIIIIIIIIIIIIZXIIIIIIIIIIIIIIIIIIIIIIIIIIIIIIIIIIIIIIIII', 'IIIIIIIIIIIIIIIIIIIIIIIIIIIIIIIIIIIIIIIIIIIIIIIIIIIIIIIIIIIIIIIIIIIIIIIIIIIIIIIIIIIIXXIIIIIIIIIIIIIIIIIIIIIIIIIIIIIIIIIIIIIIIII'],\n",
       "              coeffs=[ 1.+0.j, -1.+0.j,  1.+0.j,  1.+0.j])"
      ]
     },
     "execution_count": 19,
     "metadata": {},
     "output_type": "execute_result"
    }
   ],
   "source": [
    "isa_observable1"
   ]
  },
  {
   "cell_type": "markdown",
   "id": "b7194399",
   "metadata": {},
   "source": [
    "## Step 3. Execute using Qiskit primitives\n",
    "\n",
    "In order to execute the entire experiment in one call to the [`Estimator`](https://docs.quantum-computing.ibm.com/api/qiskit-ibm-runtime/qiskit_ibm_runtime.EstimatorV2).\n"
   ]
  },
  {
   "cell_type": "markdown",
   "id": "2d8ad9e1",
   "metadata": {},
   "source": [
    "We can create a [Qiskit Runtime `Estimator`](https://docs.quantum.ibm.com/api/qiskit-ibm-runtime/qiskit_ibm_runtime.EstimatorV2) primitive to compute our expectation values. The `EstimatorV2.run()` method takes an iterable of `primitive unified blocs (PUBs)`. Each PUB is an iterable in the format `(circuit, observables, parameter_values: Optional, precision: Optional)`.\n"
   ]
  },
  {
   "cell_type": "code",
   "execution_count": 54,
   "id": "b0f2ae29",
   "metadata": {},
   "outputs": [],
   "source": [
    "# To run on a local simulator:\n",
    "# Use the StatevectorEstimator from qiskit.primitives instead.\n",
    "\n",
    "estimator = Estimator(mode=backend_ys)\n",
    "\n",
    "pub = (\n",
    "    chsh_isa_circuit,  # ISA circuit\n",
    "    [[isa_observable1], [isa_observable2]],  # ISA Observables\n",
    "    individual_phases,  # Parameter values\n",
    ")\n",
    "\n",
    "ibmq_job = estimator.run(pubs=[pub])"
   ]
  },
  {
   "cell_type": "code",
   "execution_count": null,
   "id": "3c23d52e",
   "metadata": {},
   "outputs": [],
   "source": [
    "job_id_ys = ibmq_job.job_id()\n",
    "job_id_ys"
   ]
  },
  {
   "cell_type": "code",
   "execution_count": 50,
   "id": "f7059c6e",
   "metadata": {},
   "outputs": [],
   "source": [
    "job = service.job('d0h9rahehmr0008gfk6g')"
   ]
  },
  {
   "cell_type": "code",
   "execution_count": 51,
   "id": "8e632ad0",
   "metadata": {},
   "outputs": [
    {
     "data": {
      "text/plain": [
       "'QUEUED'"
      ]
     },
     "execution_count": 51,
     "metadata": {},
     "output_type": "execute_result"
    }
   ],
   "source": [
    "job.status()"
   ]
  },
  {
   "cell_type": "code",
   "execution_count": null,
   "id": "dfc498e3",
   "metadata": {},
   "outputs": [],
   "source": [
    "result = job.result()"
   ]
  },
  {
   "cell_type": "markdown",
   "id": "ace7dc90",
   "metadata": {},
   "source": [
    "## Step 4. Post-process, return result in classical format\n",
    "\n",
    "The estimator returns expectation values for both of the observables, $\\langle ZZ \\rangle - \\langle ZX \\rangle + \\langle XZ \\rangle + \\langle XX \\rangle$ and $\\langle ZZ \\rangle + \\langle ZX \\rangle - \\langle XZ \\rangle + \\langle XX \\rangle$.\n"
   ]
  },
  {
   "cell_type": "code",
   "execution_count": 9,
   "id": "947fc660-073b-4dee-b347-358fd3e52ea2",
   "metadata": {},
   "outputs": [],
   "source": [
    "chsh1_est = job_result[0].data.evs[0]\n",
    "chsh2_est = job_result[0].data.evs[1]"
   ]
  },
  {
   "cell_type": "code",
   "execution_count": 10,
   "id": "f6267448",
   "metadata": {},
   "outputs": [
    {
     "data": {
      "image/svg+xml": [
       "<?xml version=\"1.0\" encoding=\"UTF-8\"?><!DOCTYPE svg  PUBLIC '-//W3C//DTD SVG 1.1//EN'  'http://www.w3.org/Graphics/SVG/1.1/DTD/svg11.dtd'><svg width=\"607.82pt\" height=\"377.4pt\" version=\"1.1\" viewBox=\"0 0 607.82 377.4\" xmlns=\"http://www.w3.org/2000/svg\" xmlns:xlink=\"http://www.w3.org/1999/xlink\"><defs><style type=\"text/css\">*{stroke-linejoin: round; stroke-linecap: butt}</style></defs><path d=\"m0 377.4h607.82v-377.4h-607.82z\" fill=\"#ffffff\"/><path d=\"m42.62 339.84h558v-332.64h-558z\" fill=\"#ffffff\"/><defs><path id=\"60c9fe35c07\" d=\"m67.984-354.38v43.889h25.364 25.364 25.364 25.364 25.364 25.364 25.364 25.364 25.364 25.364 25.364 25.364 25.364 25.364 25.364 25.364 25.364 25.364 25.364 25.364v-43.889h-25.364-25.364-25.364-25.364-25.364-25.364-25.364-25.364-25.364-25.364-25.364-25.364-25.364-25.364-25.364-25.364-25.364-25.364-25.364-25.364z\" stroke=\"#999999\" stroke-opacity=\".7\"/></defs><g clip-path=\"url(#51bd4842319)\"><use y=\"377.39625\" fill=\"#999999\" fill-opacity=\".7\" stroke=\"#999999\" stroke-opacity=\".7\" xlink:href=\"#60c9fe35c07\"/></g><defs><path id=\"83b88d64fb5\" d=\"m67.984-54.686v-43.889h25.364 25.364 25.364 25.364 25.364 25.364 25.364 25.364 25.364 25.364 25.364 25.364 25.364 25.364 25.364 25.364 25.364 25.364 25.364 25.364v43.889h-25.364-25.364-25.364-25.364-25.364-25.364-25.364-25.364-25.364-25.364-25.364-25.364-25.364-25.364-25.364-25.364-25.364-25.364-25.364-25.364z\" stroke=\"#999999\" stroke-opacity=\".7\"/></defs><g clip-path=\"url(#51bd4842319)\"><use y=\"377.39625\" fill=\"#999999\" fill-opacity=\".7\" stroke=\"#999999\" stroke-opacity=\".7\" xlink:href=\"#83b88d64fb5\"/></g><defs><path id=\"142181804ba\" d=\"m0 0v3.5\" stroke=\"#343a3f\" stroke-width=\".8\"/></defs><use x=\"67.983949\" y=\"339.84\" fill=\"#343a3f\" stroke=\"#343a3f\" stroke-width=\".8\" xlink:href=\"#142181804ba\"/><g transform=\"translate(60.184 354.44) scale(.1 -.1)\" fill=\"#343a3f\"><defs><path id=\"DejaVuSans-30\" transform=\"scale(.015625)\" d=\"m2034 4250q-487 0-733-480-245-479-245-1442 0-959 245-1439 246-480 733-480 491 0 736 480 246 480 246 1439 0 963-246 1442-245 480-736 480zm0 500q785 0 1199-621 414-620 414-1801 0-1178-414-1799-414-620-1199-620-784 0-1198 620-414 621-414 1799 0 1181 414 1801 414 621 1198 621z\"/><path id=\"DejaVuSans-Oblique-3c0\" transform=\"scale(.015625)\" d=\"m584 3500h3354l-113-575h-441l-418-2150q-44-225 15-325 57-97 228-97 47 0 116 10 72 6 94 9l-81-416q-116-40-235-59-122-19-237-19-375 0-478 203-104 207 3 757l406 2087h-1291l-568-2925h-588l569 2925h-447l112 575z\"/></defs><use transform=\"translate(0 .78125)\" xlink:href=\"#DejaVuSans-30\"/><use transform=\"translate(63.623 .78125)\" xlink:href=\"#DejaVuSans-20\"/><use transform=\"translate(95.41 .78125)\" xlink:href=\"#DejaVuSans-Oblique-3c0\"/></g><use x=\"194.802131\" y=\"339.84\" fill=\"#343a3f\" stroke=\"#343a3f\" stroke-width=\".8\" xlink:href=\"#142181804ba\"/><g transform=\"translate(182.2 354.44) scale(.1 -.1)\" fill=\"#343a3f\"><defs><path id=\"DejaVuSans-2e\" transform=\"scale(.015625)\" d=\"m684 794h660v-794h-660v794z\"/><path id=\"DejaVuSans-35\" transform=\"scale(.015625)\" d=\"m691 4666h2478v-532h-1900v-1143q137 47 274 70 138 23 276 23 781 0 1237-428 457-428 457-1159 0-753-469-1171-469-417-1322-417-294 0-599 50-304 50-629 150v635q281-153 581-228t634-75q541 0 856 284 316 284 316 772 0 487-316 771-315 285-856 285-253 0-505-56-251-56-513-175v2344z\"/></defs><use transform=\"translate(0 .78125)\" xlink:href=\"#DejaVuSans-30\"/><use transform=\"translate(63.623 .78125)\" xlink:href=\"#DejaVuSans-2e\"/><use transform=\"translate(95.41 .78125)\" xlink:href=\"#DejaVuSans-35\"/><use transform=\"translate(159.03 .78125)\" xlink:href=\"#DejaVuSans-20\"/><use transform=\"translate(190.82 .78125)\" xlink:href=\"#DejaVuSans-Oblique-3c0\"/></g><use x=\"321.620312\" y=\"339.84\" fill=\"#343a3f\" stroke=\"#343a3f\" stroke-width=\".8\" xlink:href=\"#142181804ba\"/><g transform=\"translate(313.82 354.44) scale(.1 -.1)\" fill=\"#343a3f\"><defs><path id=\"DejaVuSans-31\" transform=\"scale(.015625)\" d=\"m794 531h1031v3560l-1122-225v575l1116 225h631v-4135h1031v-531h-2687v531z\"/></defs><use transform=\"translate(0 .09375)\" xlink:href=\"#DejaVuSans-31\"/><use transform=\"translate(63.623 .09375)\" xlink:href=\"#DejaVuSans-20\"/><use transform=\"translate(95.41 .09375)\" xlink:href=\"#DejaVuSans-Oblique-3c0\"/></g><use x=\"448.438494\" y=\"339.84\" fill=\"#343a3f\" stroke=\"#343a3f\" stroke-width=\".8\" xlink:href=\"#142181804ba\"/><g transform=\"translate(435.84 354.44) scale(.1 -.1)\" fill=\"#343a3f\"><use transform=\"translate(0 .09375)\" xlink:href=\"#DejaVuSans-31\"/><use transform=\"translate(63.623 .09375)\" xlink:href=\"#DejaVuSans-2e\"/><use transform=\"translate(95.41 .09375)\" xlink:href=\"#DejaVuSans-35\"/><use transform=\"translate(159.03 .09375)\" xlink:href=\"#DejaVuSans-20\"/><use transform=\"translate(190.82 .09375)\" xlink:href=\"#DejaVuSans-Oblique-3c0\"/></g><use x=\"575.256676\" y=\"339.84\" fill=\"#343a3f\" stroke=\"#343a3f\" stroke-width=\".8\" xlink:href=\"#142181804ba\"/><g transform=\"translate(567.46 354.44) scale(.1 -.1)\" fill=\"#343a3f\"><defs><path id=\"DejaVuSans-32\" transform=\"scale(.015625)\" d=\"m1228 531h2203v-531h-2962v531q359 372 979 998 621 627 780 809 303 340 423 576 121 236 121 464 0 372-261 606-261 235-680 235-297 0-627-103-329-103-704-313v638q381 153 712 231 332 78 607 78 725 0 1156-363 431-362 431-968 0-288-108-546-107-257-392-607-78-91-497-524-418-433-1181-1211z\"/></defs><use transform=\"translate(0 .78125)\" xlink:href=\"#DejaVuSans-32\"/><use transform=\"translate(63.623 .78125)\" xlink:href=\"#DejaVuSans-20\"/><use transform=\"translate(95.41 .78125)\" xlink:href=\"#DejaVuSans-Oblique-3c0\"/></g><g transform=\"translate(307.3 368.12) scale(.1 -.1)\" fill=\"#343a3f\"><defs><path id=\"DejaVuSans-54\" transform=\"scale(.015625)\" d=\"m-19 4666h3947v-532h-1656v-4134h-634v4134h-1657v532z\"/><path id=\"DejaVuSans-68\" transform=\"scale(.015625)\" d=\"m3513 2113v-2113h-575v2094q0 497-194 743-194 247-581 247-466 0-735-297-269-296-269-809v-1978h-578v4863h578v-1907q207 316 486 472 280 156 646 156 603 0 912-373 310-373 310-1098z\"/><path id=\"DejaVuSans-65\" transform=\"scale(.015625)\" d=\"m3597 1894v-281h-2644q38-594 358-905t892-311q331 0 642 81t618 244v-544q-310-131-635-200t-659-69q-838 0-1327 487-489 488-489 1320 0 859 464 1363 464 505 1252 505 706 0 1117-455 411-454 411-1235zm-575 169q-6 471-264 752-258 282-683 282-481 0-770-272t-333-766l2050 4z\"/><path id=\"DejaVuSans-74\" transform=\"scale(.015625)\" d=\"m1172 4494v-994h1184v-447h-1184v-1900q0-428 117-550t477-122h590v-481h-590q-666 0-919 248-253 249-253 905v1900h-422v447h422v994h578z\"/><path id=\"DejaVuSans-61\" transform=\"scale(.015625)\" d=\"m2194 1759q-697 0-966-159t-269-544q0-306 202-486 202-179 548-179 479 0 768 339t289 901v128h-572zm1147 238v-1997h-575v531q-197-318-491-470t-719-152q-537 0-855 302-317 302-317 808 0 590 395 890 396 300 1180 300h807v57q0 397-261 614t-733 217q-300 0-585-72-284-72-546-216v532q315 122 612 182 297 61 578 61 760 0 1135-394 375-393 375-1193z\"/></defs><use xlink:href=\"#DejaVuSans-54\"/><use x=\"61.083984\" xlink:href=\"#DejaVuSans-68\"/><use x=\"124.462891\" xlink:href=\"#DejaVuSans-65\"/><use x=\"185.986328\" xlink:href=\"#DejaVuSans-74\"/><use x=\"225.195312\" xlink:href=\"#DejaVuSans-61\"/></g><defs><path id=\"8fc66b67bd0\" d=\"m0 0h-3.5\" stroke=\"#343a3f\" stroke-width=\".8\"/></defs><use x=\"42.620312\" y=\"331.800239\" fill=\"#343a3f\" stroke=\"#343a3f\" stroke-width=\".8\" xlink:href=\"#8fc66b67bd0\"/><g transform=\"translate(20.878 335.6) scale(.1 -.1)\" fill=\"#343a3f\"><defs><path id=\"DejaVuSans-2212\" transform=\"scale(.015625)\" d=\"m678 2272h4006v-531h-4006v531z\"/><path id=\"DejaVuSans-33\" transform=\"scale(.015625)\" d=\"m2597 2516q453-97 707-404 255-306 255-756 0-690-475-1069-475-378-1350-378-293 0-604 58t-642 174v609q262-153 574-231 313-78 654-78 593 0 904 234t311 681q0 413-289 645-289 233-804 233h-544v519h569q465 0 712 186t247 536q0 359-255 551-254 193-729 193-260 0-557-57-297-56-653-174v562q360 100 674 150t592 50q719 0 1137-327 419-326 419-882 0-388-222-655t-631-370z\"/></defs><use xlink:href=\"#DejaVuSans-2212\"/><use x=\"83.789062\" xlink:href=\"#DejaVuSans-33\"/></g><use x=\"42.620312\" y=\"278.821464\" fill=\"#343a3f\" stroke=\"#343a3f\" stroke-width=\".8\" xlink:href=\"#8fc66b67bd0\"/><g transform=\"translate(20.878 282.62) scale(.1 -.1)\" fill=\"#343a3f\"><use xlink:href=\"#DejaVuSans-2212\"/><use x=\"83.789062\" xlink:href=\"#DejaVuSans-32\"/></g><use x=\"42.620312\" y=\"225.84269\" fill=\"#343a3f\" stroke=\"#343a3f\" stroke-width=\".8\" xlink:href=\"#8fc66b67bd0\"/><g transform=\"translate(20.878 229.64) scale(.1 -.1)\" fill=\"#343a3f\"><use xlink:href=\"#DejaVuSans-2212\"/><use x=\"83.789062\" xlink:href=\"#DejaVuSans-31\"/></g><use x=\"42.620312\" y=\"172.863916\" fill=\"#343a3f\" stroke=\"#343a3f\" stroke-width=\".8\" xlink:href=\"#8fc66b67bd0\"/><g transform=\"translate(29.258 176.66) scale(.1 -.1)\" fill=\"#343a3f\"><use xlink:href=\"#DejaVuSans-30\"/></g><use x=\"42.620312\" y=\"119.885142\" fill=\"#343a3f\" stroke=\"#343a3f\" stroke-width=\".8\" xlink:href=\"#8fc66b67bd0\"/><g transform=\"translate(29.258 123.68) scale(.1 -.1)\" fill=\"#343a3f\"><use xlink:href=\"#DejaVuSans-31\"/></g><use x=\"42.620312\" y=\"66.906368\" fill=\"#343a3f\" stroke=\"#343a3f\" stroke-width=\".8\" xlink:href=\"#8fc66b67bd0\"/><g transform=\"translate(29.258 70.706) scale(.1 -.1)\" fill=\"#343a3f\"><use xlink:href=\"#DejaVuSans-32\"/></g><use x=\"42.620312\" y=\"13.927594\" fill=\"#343a3f\" stroke=\"#343a3f\" stroke-width=\".8\" xlink:href=\"#8fc66b67bd0\"/><g transform=\"translate(29.258 17.727) scale(.1 -.1)\" fill=\"#343a3f\"><use xlink:href=\"#DejaVuSans-33\"/></g><g transform=\"translate(14.798 208.19) rotate(-90) scale(.1 -.1)\" fill=\"#343a3f\"><defs><path id=\"DejaVuSans-43\" transform=\"scale(.015625)\" d=\"m4122 4306v-665q-319 297-680 443-361 147-767 147-800 0-1225-489t-425-1414q0-922 425-1411t1225-489q406 0 767 147t680 444v-660q-331-225-702-338-370-112-782-112-1060 0-1670 648-609 649-609 1771 0 1125 609 1773 610 649 1670 649 418 0 788-111 371-111 696-333z\"/><path id=\"DejaVuSans-48\" transform=\"scale(.015625)\" d=\"m628 4666h631v-1913h2294v1913h631v-4666h-631v2222h-2294v-2222h-631v4666z\"/><path id=\"DejaVuSans-53\" transform=\"scale(.015625)\" d=\"m3425 4513v-616q-359 172-678 256-319 85-616 85-515 0-795-200t-280-569q0-310 186-468 186-157 705-254l381-78q706-135 1042-474t336-907q0-679-455-1029-454-350-1332-350-331 0-705 75-373 75-773 222v650q384-215 753-325 369-109 725-109 540 0 834 212 294 213 294 607 0 343-211 537t-692 291l-385 75q-706 140-1022 440-315 300-315 835 0 619 436 975t1201 356q329 0 669-60 341-59 697-177z\"/><path id=\"DejaVuSans-77\" transform=\"scale(.015625)\" d=\"m269 3500h575l719-2731 715 2731h678l719-2731 716 2731h575l-916-3500h-678l-753 2869-756-2869h-679l-915 3500z\"/><path id=\"DejaVuSans-69\" transform=\"scale(.015625)\" d=\"m603 3500h575v-3500h-575v3500zm0 1363h575v-729h-575v729z\"/><path id=\"DejaVuSans-6e\" transform=\"scale(.015625)\" d=\"m3513 2113v-2113h-575v2094q0 497-194 743-194 247-581 247-466 0-735-297-269-296-269-809v-1978h-578v3500h578v-544q207 316 486 472 280 156 646 156 603 0 912-373 310-373 310-1098z\"/><path id=\"DejaVuSans-73\" transform=\"scale(.015625)\" d=\"m2834 3397v-544q-243 125-506 187-262 63-544 63-428 0-642-131t-214-394q0-200 153-314t616-217l197-44q612-131 870-370t258-667q0-488-386-773-386-284-1061-284-281 0-586 55t-642 164v594q319-166 628-249 309-82 613-82 406 0 624 139 219 139 219 392 0 234-158 359-157 125-692 241l-200 47q-534 112-772 345-237 233-237 639 0 494 350 762 350 269 994 269 318 0 599-47 282-46 519-140z\"/></defs><use xlink:href=\"#DejaVuSans-43\"/><use x=\"69.824219\" xlink:href=\"#DejaVuSans-48\"/><use x=\"145.019531\" xlink:href=\"#DejaVuSans-53\"/><use x=\"208.496094\" xlink:href=\"#DejaVuSans-48\"/><use x=\"283.691406\" xlink:href=\"#DejaVuSans-20\"/><use x=\"315.478516\" xlink:href=\"#DejaVuSans-77\"/><use x=\"397.265625\" xlink:href=\"#DejaVuSans-69\"/><use x=\"425.048828\" xlink:href=\"#DejaVuSans-74\"/><use x=\"464.257812\" xlink:href=\"#DejaVuSans-6e\"/><use x=\"527.636719\" xlink:href=\"#DejaVuSans-65\"/><use x=\"589.160156\" xlink:href=\"#DejaVuSans-73\"/><use x=\"641.259766\" xlink:href=\"#DejaVuSans-73\"/></g><path d=\"m42.62 66.906h558\" clip-path=\"url(#51bd4842319)\" fill=\"none\" stroke=\"#e6e6e6\" stroke-dasharray=\"3.7,1.6\"/><path d=\"m42.62 278.82h558\" clip-path=\"url(#51bd4842319)\" fill=\"none\" stroke=\"#e6e6e6\" stroke-dasharray=\"3.7,1.6\"/><path d=\"m42.62 23.017h558\" clip-path=\"url(#51bd4842319)\" fill=\"none\" stroke=\"#e6e6e6\" stroke-dasharray=\"6.4,1.6,1,1.6\"/><path d=\"m42.62 322.71h558\" clip-path=\"url(#51bd4842319)\" fill=\"none\" stroke=\"#e6e6e6\" stroke-dasharray=\"6.4,1.6,1,1.6\"/><path d=\"m42.62 339.84v-332.64\" fill=\"none\" stroke=\"#343a3f\" stroke-linecap=\"square\" stroke-width=\".8\"/><path d=\"m42.62 339.84h558\" fill=\"none\" stroke=\"#343a3f\" stroke-linecap=\"square\" stroke-width=\".8\"/><path d=\"m67.984 65.485 25.364 38.408 25.364 46.91 25.364 45.488 25.364 45.352 25.364 36.987 25.364 27.282 25.364 18.808 25.364-1.8862 25.364-15.746 25.364-26.435 25.364-37.752 25.364-45.899 25.364-49.48 25.364-46.883 25.364-35.456 25.364-30.453 25.364-10.087 25.364-1.0388 25.364 13.586 25.364 30.645\" clip-path=\"url(#51bd4842319)\" fill=\"none\" stroke=\"#1192e8\" stroke-linecap=\"square\"/><defs><path id=\"29cc8734fca\" d=\"m0 3c0.79561 0 1.5587-0.3161 2.1213-0.87868 0.56258-0.56258 0.87868-1.3257 0.87868-2.1213s-0.3161-1.5587-0.87868-2.1213c-0.56258-0.56258-1.3257-0.87868-2.1213-0.87868s-1.5587 0.3161-2.1213 0.87868c-0.56258 0.56258-0.87868 1.3257-0.87868 2.1213s0.3161 1.5587 0.87868 2.1213c0.56258 0.56258 1.3257 0.87868 2.1213 0.87868z\" stroke=\"#1192e8\"/></defs><g clip-path=\"url(#51bd4842319)\" fill=\"#1192e8\" stroke=\"#1192e8\"><use x=\"67.983949\" y=\"65.484853\" xlink:href=\"#29cc8734fca\"/><use x=\"93.347585\" y=\"103.893097\" xlink:href=\"#29cc8734fca\"/><use x=\"118.711222\" y=\"150.803095\" xlink:href=\"#29cc8734fca\"/><use x=\"144.074858\" y=\"196.291578\" xlink:href=\"#29cc8734fca\"/><use x=\"169.438494\" y=\"241.643377\" xlink:href=\"#29cc8734fca\"/><use x=\"194.802131\" y=\"278.630107\" xlink:href=\"#29cc8734fca\"/><use x=\"220.165767\" y=\"305.912262\" xlink:href=\"#29cc8734fca\"/><use x=\"245.529403\" y=\"324.72\" xlink:href=\"#29cc8734fca\"/><use x=\"270.89304\" y=\"322.833759\" xlink:href=\"#29cc8734fca\"/><use x=\"296.256676\" y=\"307.087745\" xlink:href=\"#29cc8734fca\"/><use x=\"321.620312\" y=\"280.653032\" xlink:href=\"#29cc8734fca\"/><use x=\"346.983949\" y=\"242.900871\" xlink:href=\"#29cc8734fca\"/><use x=\"372.347585\" y=\"197.002336\" xlink:href=\"#29cc8734fca\"/><use x=\"397.711222\" y=\"147.522676\" xlink:href=\"#29cc8734fca\"/><use x=\"423.074858\" y=\"100.640014\" xlink:href=\"#29cc8734fca\"/><use x=\"448.438494\" y=\"65.184148\" xlink:href=\"#29cc8734fca\"/><use x=\"473.802131\" y=\"34.73092\" xlink:href=\"#29cc8734fca\"/><use x=\"499.165767\" y=\"24.64363\" xlink:href=\"#29cc8734fca\"/><use x=\"524.529403\" y=\"23.604831\" xlink:href=\"#29cc8734fca\"/><use x=\"549.89304\" y=\"37.191235\" xlink:href=\"#29cc8734fca\"/><use x=\"575.256676\" y=\"67.83582\" xlink:href=\"#29cc8734fca\"/></g><path d=\"m67.984 65.649 25.364-27.528 25.364-14.16 25.364-1.6402 25.364 16.593 25.364 24.521 25.364 39.966 25.364 46.145 25.364 48.031 25.364 46.746 25.364 36.276 25.364 26.325 25.364 15.664 25.364 1.4762 25.364-16.429 25.364-27.474 25.364-41.169 25.364-42.837 25.364-46.363 25.364-45.735 25.364-40.158\" clip-path=\"url(#51bd4842319)\" fill=\"none\" stroke=\"#6929c4\" stroke-linecap=\"square\"/><defs><path id=\"6deff4ac78c\" d=\"m0 3c0.79561 0 1.5587-0.3161 2.1213-0.87868 0.56258-0.56258 0.87868-1.3257 0.87868-2.1213s-0.3161-1.5587-0.87868-2.1213c-0.56258-0.56258-1.3257-0.87868-2.1213-0.87868s-1.5587 0.3161-2.1213 0.87868c-0.56258 0.56258-0.87868 1.3257-0.87868 2.1213s0.3161 1.5587 0.87868 2.1213c0.56258 0.56258 1.3257 0.87868 2.1213 0.87868z\" stroke=\"#6929c4\"/></defs><g clip-path=\"url(#51bd4842319)\" fill=\"#6929c4\" stroke=\"#6929c4\"><use x=\"67.983949\" y=\"65.648874\" xlink:href=\"#6deff4ac78c\"/><use x=\"93.347585\" y=\"38.120687\" xlink:href=\"#6deff4ac78c\"/><use x=\"118.711222\" y=\"23.96021\" xlink:href=\"#6deff4ac78c\"/><use x=\"144.074858\" y=\"22.32\" xlink:href=\"#6deff4ac78c\"/><use x=\"169.438494\" y=\"38.913455\" xlink:href=\"#6deff4ac78c\"/><use x=\"194.802131\" y=\"63.43459\" xlink:href=\"#6deff4ac78c\"/><use x=\"220.165767\" y=\"103.401034\" xlink:href=\"#6deff4ac78c\"/><use x=\"245.529403\" y=\"149.545601\" xlink:href=\"#6deff4ac78c\"/><use x=\"270.89304\" y=\"197.576409\" xlink:href=\"#6deff4ac78c\"/><use x=\"296.256676\" y=\"244.322387\" xlink:href=\"#6deff4ac78c\"/><use x=\"321.620312\" y=\"280.598358\" xlink:href=\"#6deff4ac78c\"/><use x=\"346.983949\" y=\"306.923724\" xlink:href=\"#6deff4ac78c\"/><use x=\"372.347585\" y=\"322.587727\" xlink:href=\"#6deff4ac78c\"/><use x=\"397.711222\" y=\"324.063916\" xlink:href=\"#6deff4ac78c\"/><use x=\"423.074858\" y=\"307.634482\" xlink:href=\"#6deff4ac78c\"/><use x=\"448.438494\" y=\"280.160969\" xlink:href=\"#6deff4ac78c\"/><use x=\"473.802131\" y=\"238.991705\" xlink:href=\"#6deff4ac78c\"/><use x=\"499.165767\" y=\"196.154894\" xlink:href=\"#6deff4ac78c\"/><use x=\"524.529403\" y=\"149.791633\" xlink:href=\"#6deff4ac78c\"/><use x=\"549.89304\" y=\"104.057118\" xlink:href=\"#6deff4ac78c\"/><use x=\"575.256676\" y=\"63.899317\" xlink:href=\"#6deff4ac78c\"/></g><path d=\"m524.89 189.7h70.734v-32.356h-70.734z\" fill=\"#ffffff\" opacity=\".8\" stroke=\"#cccccc\"/><path d=\"m528.89 165.44h10 10\" fill=\"none\" stroke=\"#1192e8\" stroke-linecap=\"square\"/><use x=\"538.885937\" y=\"165.440312\" fill=\"#1192e8\" stroke=\"#1192e8\" xlink:href=\"#29cc8734fca\"/><g transform=\"translate(556.89 168.94) scale(.1 -.1)\" fill=\"#343a3f\"><use xlink:href=\"#DejaVuSans-43\"/><use x=\"69.824219\" xlink:href=\"#DejaVuSans-48\"/><use x=\"145.019531\" xlink:href=\"#DejaVuSans-53\"/><use x=\"208.496094\" xlink:href=\"#DejaVuSans-48\"/><use x=\"283.691406\" xlink:href=\"#DejaVuSans-31\"/></g><path d=\"m528.89 180.12h10 10\" fill=\"none\" stroke=\"#6929c4\" stroke-linecap=\"square\"/><use x=\"538.885937\" y=\"180.118437\" fill=\"#6929c4\" stroke=\"#6929c4\" xlink:href=\"#6deff4ac78c\"/><g transform=\"translate(556.89 183.62) scale(.1 -.1)\" fill=\"#343a3f\"><use xlink:href=\"#DejaVuSans-43\"/><use x=\"69.824219\" xlink:href=\"#DejaVuSans-48\"/><use x=\"145.019531\" xlink:href=\"#DejaVuSans-53\"/><use x=\"208.496094\" xlink:href=\"#DejaVuSans-48\"/><use x=\"283.691406\" xlink:href=\"#DejaVuSans-32\"/></g><defs><clipPath id=\"51bd4842319\"><rect x=\"42.62\" y=\"7.2\" width=\"558\" height=\"332.64\"/></clipPath></defs></svg>"
      ],
      "text/plain": [
       "<Figure size 1000x600 with 1 Axes>"
      ]
     },
     "metadata": {},
     "output_type": "display_data"
    }
   ],
   "source": [
    "fig, ax = plt.subplots(figsize=(10, 6))\n",
    "\n",
    "# results from hardware\n",
    "ax.plot(phases / np.pi, chsh1_est, \"o-\", label=\"CHSH1\", zorder=3)\n",
    "ax.plot(phases / np.pi, chsh2_est, \"o-\", label=\"CHSH2\", zorder=3)\n",
    "\n",
    "# classical bound +-2\n",
    "ax.axhline(y=2, color=\"0.9\", linestyle=\"--\")\n",
    "ax.axhline(y=-2, color=\"0.9\", linestyle=\"--\")\n",
    "\n",
    "# quantum bound, +-2√2\n",
    "ax.axhline(y=np.sqrt(2) * 2, color=\"0.9\", linestyle=\"-.\")\n",
    "ax.axhline(y=-np.sqrt(2) * 2, color=\"0.9\", linestyle=\"-.\")\n",
    "ax.fill_between(phases / np.pi, 2, 2 * np.sqrt(2), color=\"0.6\", alpha=0.7)\n",
    "ax.fill_between(phases / np.pi, -2, -2 * np.sqrt(2), color=\"0.6\", alpha=0.7)\n",
    "\n",
    "# set x tick labels to the unit of pi\n",
    "ax.xaxis.set_major_formatter(tck.FormatStrFormatter(\"%g $\\\\pi$\"))\n",
    "ax.xaxis.set_major_locator(tck.MultipleLocator(base=0.5))\n",
    "\n",
    "# set labels, and legend\n",
    "plt.xlabel(\"Theta\")\n",
    "plt.ylabel(\"CHSH witness\")\n",
    "plt.legend()\n",
    "plt.show()"
   ]
  },
  {
   "cell_type": "markdown",
   "id": "0b35cb28",
   "metadata": {},
   "source": [
    "# Local Esitimator"
   ]
  },
  {
   "cell_type": "code",
   "execution_count": 37,
   "id": "19df2dcc",
   "metadata": {},
   "outputs": [
    {
     "data": {
      "image/png": "[encoded data removed]",
      "text/plain": [
       "<Figure size 370.906x200.667 with 1 Axes>"
      ]
     },
     "execution_count": 37,
     "metadata": {},
     "output_type": "execute_result"
    }
   ],
   "source": [
    "theta = Parameter(\"$\\\\theta$\")\n",
    "\n",
    "chsh_circuit = QuantumCircuit(2)\n",
    "chsh_circuit.h(0)\n",
    "chsh_circuit.cx(0, 1)\n",
    "chsh_circuit.ry(theta, 0)\n",
    "chsh_circuit.draw(output=\"mpl\", idle_wires=False, style=\"iqp\")"
   ]
  },
  {
   "cell_type": "code",
   "execution_count": 38,
   "id": "ef27e408",
   "metadata": {},
   "outputs": [],
   "source": [
    "number_of_phases = 21\n",
    "phases = np.linspace(0, 2 * np.pi, number_of_phases)\n",
    "# Phases need to be expressed as list of lists in order to work\n",
    "individual_phases = [[ph] for ph in phases]"
   ]
  },
  {
   "cell_type": "code",
   "execution_count": 27,
   "id": "a63cc807",
   "metadata": {},
   "outputs": [],
   "source": [
    "from qiskit.quantum_info import Pauli, SparsePauliOp\n",
    "\n",
    "observables = [\n",
    "    [SparsePauliOp([\"XX\", \"IY\"], [0.5, 0.5])],\n",
    "    [Pauli(\"XX\")],\n",
    "    [Pauli(\"IY\")]\n",
    "]"
   ]
  },
  {
   "cell_type": "code",
   "execution_count": 36,
   "id": "0c2eed3c",
   "metadata": {},
   "outputs": [],
   "source": [
    "# <CHSH1> = <A_1 B_1> - <A_1 B_2> + <A_2 B_1> + <A_2 B_2> -> <ZZ> - <ZX> + <XZ> + <XX>\n",
    "observable1 = SparsePauliOp.from_list([(\"ZZ\", 1), (\"ZX\", -1), (\"XZ\", 1), (\"XX\", 1)])\n",
    "\n",
    "# <CHSH2> = <A_1 B_1> - <A_1 B_2> + <A_2 B_1> + <A_2 B_2> -> <ZZ> + <ZX> - <XZ> + <XX>\n",
    "observable2 = SparsePauliOp.from_list([(\"ZZ\", 1), (\"ZX\", 1), (\"XZ\", -1), (\"XX\", 1)])"
   ]
  },
  {
   "cell_type": "code",
   "execution_count": 45,
   "id": "dd053696",
   "metadata": {},
   "outputs": [],
   "source": [
    "from qiskit.primitives import StatevectorEstimator\n",
    "\n",
    "local_estimator = StatevectorEstimator()\n",
    "\n",
    "pub = (chsh_circuit, [[observable1], [observable2]], individual_phases)\n",
    "\n",
    "job_local = local_estimator.run([pub])\n"
   ]
  },
  {
   "cell_type": "code",
   "execution_count": 46,
   "id": "f662865b",
   "metadata": {},
   "outputs": [],
   "source": [
    "result_local = job_local.result()[0]\n"
   ]
  },
  {
   "cell_type": "code",
   "execution_count": 47,
   "id": "81fed003",
   "metadata": {},
   "outputs": [
    {
     "data": {
      "text/plain": [
       "PubResult(data=DataBin(evs=np.ndarray(<shape=(2, 21), dtype=float64>), stds=np.ndarray(<shape=(2, 21), dtype=float64>), shape=(2, 21)), metadata={'target_precision': 0.0, 'circuit_metadata': {}})"
      ]
     },
     "execution_count": 47,
     "metadata": {},
     "output_type": "execute_result"
    }
   ],
   "source": [
    "result_local"
   ]
  },
  {
   "cell_type": "code",
   "execution_count": null,
   "id": "f8cb13d9",
   "metadata": {},
   "outputs": [],
   "source": [
    "chsh1_est_local = result_local.data.evs[0]\n",
    "chsh2_est_local = result_local.data.evs[1]"
   ]
  },
  {
   "cell_type": "code",
   "execution_count": null,
   "id": "95428e48",
   "metadata": {},
   "outputs": [
    {
     "data": {
      "image/png": "[encoded data removed]",
      "text/plain": [
       "<Figure size 1000x600 with 1 Axes>"
      ]
     },
     "metadata": {},
     "output_type": "display_data"
    }
   ],
   "source": [
    "fig, ax = plt.subplots(figsize=(10, 6))\n",
    "\n",
    "# results from hardware\n",
    "ax.plot(phases / np.pi, chsh1_est_local, \"o-\", label=\"CHSH1\", zorder=3)\n",
    "ax.plot(phases / np.pi, chsh2_est_local, \"o-\", label=\"CHSH2\", zorder=3)\n",
    "\n",
    "# classical bound +-2\n",
    "ax.axhline(y=2, color=\"0.9\", linestyle=\"--\")\n",
    "ax.axhline(y=-2, color=\"0.9\", linestyle=\"--\")\n",
    "\n",
    "# quantum bound, +-2√2\n",
    "ax.axhline(y=np.sqrt(2) * 2, color=\"0.9\", linestyle=\"-.\")\n",
    "ax.axhline(y=-np.sqrt(2) * 2, color=\"0.9\", linestyle=\"-.\")\n",
    "ax.fill_between(phases / np.pi, 2, 2 * np.sqrt(2), color=\"0.6\", alpha=0.7)\n",
    "ax.fill_between(phases / np.pi, -2, -2 * np.sqrt(2), color=\"0.6\", alpha=0.7)\n",
    "\n",
    "# set x tick labels to the unit of pi\n",
    "ax.xaxis.set_major_formatter(tck.FormatStrFormatter(\"%g $\\\\pi$\"))\n",
    "ax.xaxis.set_major_locator(tck.MultipleLocator(base=0.5))\n",
    "\n",
    "# set labels, and legend\n",
    "plt.xlabel(\"Theta\")\n",
    "plt.ylabel(\"CHSH witness\")\n",
    "plt.legend()\n",
    "plt.show()"
   ]
  },
  {
   "cell_type": "markdown",
   "id": "63e63853",
   "metadata": {},
   "source": [
    "In the figure, the lines and gray areas delimit the bounds; the outer-most (dash-dotted) lines delimit the quantum-bounds ($\\pm 2$), whereas the inner (dashed) lines delimit the classical bounds ($\\pm 2\\sqrt{2}$). You can see that there are regions where the CHSH witness quantities exceeds the classical bounds. Congratulations! You have successfully demonstrated the violation of CHSH inequality in a real quantum system!\n"
   ]
  },
  {
   "cell_type": "code",
   "execution_count": 11,
   "id": "3eaa8f60",
   "metadata": {},
   "outputs": [
    {
     "data": {
      "text/plain": [
       "'0.25.0'"
      ]
     },
     "execution_count": 11,
     "metadata": {},
     "output_type": "execute_result"
    }
   ],
   "source": [
    "import qiskit_ibm_runtime\n",
    "\n",
    "qiskit_ibm_runtime.version.get_version_info()"
   ]
  },
  {
   "cell_type": "code",
   "execution_count": 12,
   "id": "eb75a5c8",
   "metadata": {},
   "outputs": [
    {
     "data": {
      "text/plain": [
       "'1.1.1'"
      ]
     },
     "execution_count": 12,
     "metadata": {},
     "output_type": "execute_result"
    }
   ],
   "source": [
    "import qiskit\n",
    "\n",
    "qiskit.version.get_version_info()"
   ]
  },
  {
   "cell_type": "markdown",
   "id": "24942533",
   "metadata": {},
   "source": [
    "## Tutorial Survey\n",
    "\n",
    "<table style=\"width: 100%;\">\n",
    "<tbody>\n",
    "<tr>\n",
    "<td style=\"width: 10%;\"><img src=\"https://learning-api.quantum.ibm.com/assets/53171443-b07b-4ae6-a4be-9aec32a854f5\" alt=\"Survey\" width=\"100%\" height=\"100%\"></td>\n",
    "<td style=\"width: 80%;\"><strong><a title=\"Tutorial Survey\" href=\"https://your.feedback.ibm.com/jfe/form/SV_3xxAgm1SF1wGp9k\" target=\"_blank\">Tutorial Survey</a></strong><br>Please take one minute to provide feedback on this tutorial. Your insights will help us improve our content offerings and user experience.</td>\n",
    "</tr>\n",
    "</tbody>\n",
    "</table>\n"
   ]
  }
 ],
 "metadata": {
  "kernelspec": {
   "display_name": "qiskit",
   "language": "python",
   "name": "python3"
  },
  "language_info": {
   "codemirror_mode": {
    "name": "ipython",
    "version": 3
   },
   "file_extension": ".py",
   "mimetype": "text/x-python",
   "name": "python",
   "nbconvert_exporter": "python",
   "pygments_lexer": "ipython3",
   "version": "3.12.9"
  }
 },
 "nbformat": 4,
 "nbformat_minor": 5
}
